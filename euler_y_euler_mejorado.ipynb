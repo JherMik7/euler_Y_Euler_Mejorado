{
 "cells": [
  {
   "cell_type": "markdown",
   "metadata": {},
   "source": [
    "## Método de Euler\n",
    "Es uno de los métodos numéricos más simples para aproximar soluciones de problemas con valores iniciales de primer orden:\n",
    "$$ y_{n+1} = y_{n} + h*f(x_{n}, y_{n}) $$\n",
    "donde $f$ es la función obtenida de la ecuación diferencial $y^{\\prime} = f(x, y)$.\n",
    "A continuación veremos el código en python; primero importamos las librerías necesarias:"
   ]
  },
  {
   "cell_type": "code",
   "execution_count": 89,
   "metadata": {},
   "outputs": [],
   "source": [
    "#Importamos las librerias\n",
    "from matplotlib import pyplot as plt #Libreria para graficar, muy similar al matlab\n",
    "import numpy as np # Libreria para trabajar con matrices y algunas expresiones matematicas\n",
    "import pandas as pd # Libreria para trabajar con dataframes\n",
    "import scipy as sp # Libreria para trabajar con funciones matematicas\n",
    "from matplotlib import style # Libreria para estilos de graficos\n",
    "plt.style.use(['science', 'notebook']) # Estilo de graficos\n"
   ]
  },
  {
   "cell_type": "markdown",
   "metadata": {},
   "source": [
    " Definimos una función con el algorítmo de recurrencia, la cual devuelve dos listas, x e y:"
   ]
  },
  {
   "cell_type": "code",
   "execution_count": 90,
   "metadata": {},
   "outputs": [],
   "source": [
    "# esta toma como parametros, la función, el valor inicial de x, el valor inicial de y, , el valor de h y el valor final de x (xf)\n",
    "def euler(funcion, x0, y0, h, xf):\n",
    "    x = [x0] # Inicializamos la lista x\n",
    "    y = [y0] # Inicializamos la lista y\n",
    "    n = int((xf - x0) / h) # Calculamos el numero de iteraciones\n",
    "    for i in range(1,n+1): # Iteramos el numero de iteraciones\n",
    "        xi = x[i-1] + h # Calculamos el valor de xi, que es el valor de x anterior mas el valor de h\n",
    "        yi = y[i-1] + h * funcion(x[i-1], y[i-1]) # Calculamos el valor de yi, que es el valor de y anterior mas el valor de h multiplicado por la funcion evaluada en el punto anterior\n",
    "        x.append(xi) # Agregamos el valor de xi a la lista x\n",
    "        y.append(yi) # Agregamos el valor de yi a la lista y\n",
    "    # El siguiente bucle es para mostrar los valores de x e y\n",
    "    for i in range(len(x)): # Iteramos la lista x\n",
    "        print(x[i], y[i]) # Imprimimos los valores de x e y\n",
    "    # Retornamos los valores de x e y\n",
    "    return x, y\n"
   ]
  },
  {
   "cell_type": "markdown",
   "metadata": {},
   "source": [
    "Definimos la función $f(x, y)$:"
   ]
  },
  {
   "cell_type": "code",
   "execution_count": 91,
   "metadata": {},
   "outputs": [],
   "source": [
    "# Definimos la función (que depende de x e y) a evaluar en el método de Euler antes definido:\n",
    "funcion1 = lambda x,y: 2*x*y"
   ]
  },
  {
   "cell_type": "markdown",
   "metadata": {},
   "source": [
    "finalmente llamamos a la función de Euler:"
   ]
  },
  {
   "cell_type": "code",
   "execution_count": 92,
   "metadata": {},
   "outputs": [
    {
     "name": "stdout",
     "output_type": "stream",
     "text": [
      "1 1\n",
      "1.05 1.1\n",
      "1.1 1.2155\n",
      "1.1500000000000001 1.349205\n",
      "1.2000000000000002 1.504363575\n",
      "1.2500000000000002 1.684887204\n",
      "1.3000000000000003 1.8954981045000001\n",
      "1.3500000000000003 2.141912858085\n",
      "1.4000000000000004 2.431071093926475\n",
      "1.4500000000000004 2.7714210470761813\n",
      "1.5000000000000004 3.173277098902228\n"
     ]
    },
    {
     "data": {
      "text/plain": [
       "[<matplotlib.lines.Line2D at 0x1ff57249400>]"
      ]
     },
     "execution_count": 92,
     "metadata": {},
     "output_type": "execute_result"
    },
    {
     "data": {
      "image/png": "[encoded data removed]",
      "text/plain": [
       "<Figure size 576x432 with 1 Axes>"
      ]
     },
     "metadata": {
      "needs_background": "light"
     },
     "output_type": "display_data"
    }
   ],
   "source": [
    "# Como la función de Euler retorna una lista de valores de x e y, asignamos dichas listas a las variables x e y\n",
    "x, y = euler(funcion1, 1, 1, 0.05, 1.5)\n",
    "# Graficamos los valores de x e y\n",
    "plt.plot(x, y, 'o-')"
   ]
  },
  {
   "cell_type": "markdown",
   "metadata": {},
   "source": [
    "## Método de Euler mejorado:\n",
    "Es un método numérico definido por la fórmula:\n",
    "\n",
    "$$ y_{n+1} = y_{n}+\\frac{h}{2} \\left [ \\dfrac{f(x_{n}, \\ y_{n})+f(x_{n+1}, \\ y^{*}_{n+1})}{2} \\right ] $$\n",
    "Donde:\n",
    "$$ y^{*}_{n+1} = y_{n} + hf(x_{n}, \\ y_{n}) $$\n",
    "Implementamos el algorítmo en python:"
   ]
  },
  {
   "cell_type": "code",
   "execution_count": 93,
   "metadata": {},
   "outputs": [],
   "source": [
    "# Definimos una función que devuelve los valores de x e y\n",
    "def eulerMejorado(funcion2, x0, y0, h, xf):\n",
    "    x = [x0] # Inicializamos la lista x\n",
    "    y = [y0] # Inicializamos la lista y\n",
    "    n = int((xf - x0) / h) # Calculamos el numero de iteraciones\n",
    "    for i in range(1,n+1): # Iteramos el numero de iteraciones\n",
    "        xi = x[i-1] # Calculamos el valor de xi, que es el valor de x anterior\n",
    "        yi = y[i-1] # Calculamos el valor de yi, que es el valor de y anterior\n",
    "        yi = yi +h/2*(funcion2(xi,yi) + funcion2(xi+h,yi+h*funcion2(xi,yi))) # Aplicamos la fórmula de Euler mejorada\n",
    "        x.append(xi+h) # Agregamos el valor de xi a la lista x\n",
    "        y.append(yi) # Agregamos el valor de yi a la lista y\n",
    "    # El siguiente bucle es para mostrar los valores de x e y    \n",
    "    for i in range(len(x)): # Iteramos la lista x\n",
    "        print(x[i], y[i]) # Imprimimos los valores de x e y\n",
    "    # Retornamos los valores de x e y\n",
    "    return x, y"
   ]
  },
  {
   "cell_type": "markdown",
   "metadata": {},
   "source": [
    "Definimos la función a evaluar:"
   ]
  },
  {
   "cell_type": "code",
   "execution_count": 94,
   "metadata": {},
   "outputs": [],
   "source": [
    "funcion2 = lambda x,y: 2*x*y"
   ]
  },
  {
   "cell_type": "markdown",
   "metadata": {},
   "source": [
    "LLamamos a la función de Euler:"
   ]
  },
  {
   "cell_type": "code",
   "execution_count": 95,
   "metadata": {},
   "outputs": [
    {
     "name": "stdout",
     "output_type": "stream",
     "text": [
      "1 1\n",
      "1.1 1.232\n",
      "1.2000000000000002 1.5478848\n",
      "1.3000000000000003 1.9831500057600002\n",
      "1.4000000000000004 2.5907871675248644\n",
      "1.5000000000000004 3.4509285071431197\n"
     ]
    },
    {
     "data": {
      "text/plain": [
       "[<matplotlib.lines.Line2D at 0x1ff57339250>]"
      ]
     },
     "execution_count": 95,
     "metadata": {},
     "output_type": "execute_result"
    },
    {
     "data": {
      "image/png": "[encoded data removed]",
      "text/plain": [
       "<Figure size 576x432 with 1 Axes>"
      ]
     },
     "metadata": {
      "needs_background": "light"
     },
     "output_type": "display_data"
    }
   ],
   "source": [
    "# Como la función de Euler retorna una lista de valores de x e y, asignamos dichas listas a las variables x e y\n",
    "x, y = eulerMejorado(funcion2, 1, 1, 0.1, 1.5)\n",
    "# Graficamos los valores de x e y\n",
    "plt.plot(x, y, 'o-')"
   ]
  }
 ],
 "metadata": {
  "kernelspec": {
   "display_name": "Python 3.9.7 ('base')",
   "language": "python",
   "name": "python3"
  },
  "language_info": {
   "codemirror_mode": {
    "name": "ipython",
    "version": 3
   },
   "file_extension": ".py",
   "mimetype": "text/x-python",
   "name": "python",
   "nbconvert_exporter": "python",
   "pygments_lexer": "ipython3",
   "version": "3.9.7"
  },
  "orig_nbformat": 4,
  "vscode": {
   "interpreter": {
    "hash": "60859aaa57a27f50ab5812c1c51fbfac4b336f756b8998e0df7a696cfd9ab78e"
   }
  }
 },
 "nbformat": 4,
 "nbformat_minor": 2
}
